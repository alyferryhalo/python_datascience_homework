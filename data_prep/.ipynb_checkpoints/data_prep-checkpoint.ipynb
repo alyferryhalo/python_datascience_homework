{
 "cells": [
  {
   "cell_type": "code",
   "execution_count": 1,
   "id": "dc1d5634",
   "metadata": {},
   "outputs": [],
   "source": [
    "from IPython.display import HTML\n",
    "\n",
    "from tqdm import trange\n",
    "\n",
    "import pandas as pd\n",
    "import numpy as np\n",
    "\n",
    "from rdkit import Chem, DataStructs\n",
    "from rdkit.Chem import Draw, Descriptors, AllChem\n",
    "import rdkit.Chem.AllChem as AllChem\n",
    "\n",
    "from CGRtools import SDFRead\n",
    "from CGRtools.utils import grid_depict, to_rdkit_molecule\n",
    "\n",
    "from sklearn.preprocessing import FunctionTransformer\n",
    "from sklearn.preprocessing import StandardScaler\n",
    "from sklearn.pipeline import Pipeline\n",
    "from sklearn.compose import ColumnTransformer\n",
    "from sklearn.metrics import r2_score, mean_squared_error, balanced_accuracy_score\n",
    "from sklearn.model_selection import KFold, cross_val_predict, GridSearchCV\n",
    "from sklearn.ensemble import GradientBoostingClassifier"
   ]
  },
  {
   "cell_type": "markdown",
   "id": "1b104002",
   "metadata": {},
   "source": [
    "# Расширение датасета\n",
    "Поскольку датасет является фокусированной библиотекой ингибиторов аденозиновых рецепторов, я волею рандом присоединила к нему ещё два датасета, чтобы были представители и других классов."
   ]
  },
  {
   "cell_type": "code",
   "execution_count": 2,
   "id": "4a8b95fd",
   "metadata": {},
   "outputs": [
    {
     "name": "stdout",
     "output_type": "stream",
     "text": [
      "477\n",
      "41127\n"
     ]
    }
   ],
   "source": [
    "covid = pd.read_csv('COVID_set.csv')\n",
    "covid_SMILES = covid['SMILES'].tolist()\n",
    "print(len(covid_SMILES))\n",
    "\n"
   ]
  },
  {
   "cell_type": "markdown",
   "id": "d7561a24",
   "metadata": {},
   "source": [
    "# Импорт фокусированной библиотеки"
   ]
  },
  {
   "cell_type": "code",
   "execution_count": 3,
   "id": "3707ee20",
   "metadata": {},
   "outputs": [],
   "source": [
    "data_sdf = SDFRead('Adenosine_20323.sdf').read()"
   ]
  },
  {
   "cell_type": "code",
   "execution_count": 4,
   "id": "f4aac550",
   "metadata": {},
   "outputs": [],
   "source": [
    "SMILES = [str(x.meta['Smile']) for x in data_sdf]"
   ]
  },
  {
   "cell_type": "code",
   "execution_count": 5,
   "id": "16d874ba",
   "metadata": {},
   "outputs": [
    {
     "data": {
      "text/plain": [
       "20323"
      ]
     },
     "execution_count": 5,
     "metadata": {},
     "output_type": "execute_result"
    }
   ],
   "source": [
    "len(SMILES)"
   ]
  },
  {
   "cell_type": "markdown",
   "id": "ace7bb00",
   "metadata": {},
   "source": [
    "# Объединение датасета"
   ]
  },
  {
   "cell_type": "code",
   "execution_count": 6,
   "id": "249fd229",
   "metadata": {},
   "outputs": [],
   "source": [
    "class_labels_TRUE = [1] * len(SMILES)"
   ]
  },
  {
   "cell_type": "code",
   "execution_count": 7,
   "id": "8336d7cb",
   "metadata": {},
   "outputs": [],
   "source": [
    "class_labels_FALSE = [0] * (len(covid_SMILES) + len(toxic_SMILES) + len(hiv_SMILES))"
   ]
  },
  {
   "cell_type": "code",
   "execution_count": 8,
   "id": "0f7953e3",
   "metadata": {},
   "outputs": [],
   "source": [
    "data_true = dict(zip(SMILES, class_labels_TRUE))"
   ]
  },
  {
   "cell_type": "code",
   "execution_count": 9,
   "id": "c297b066",
   "metadata": {},
   "outputs": [],
   "source": [
    "list_false = covid_SMILES + toxic_SMILES + hiv_SMILES"
   ]
  },
  {
   "cell_type": "code",
   "execution_count": 10,
   "id": "a30a46a9",
   "metadata": {},
   "outputs": [],
   "source": [
    "data_false = dict(zip(list_false, class_labels_FALSE))"
   ]
  },
  {
   "cell_type": "code",
   "execution_count": 11,
   "id": "a94dc749",
   "metadata": {},
   "outputs": [
    {
     "name": "stdout",
     "output_type": "stream",
     "text": [
      "<class 'dict'>\n"
     ]
    }
   ],
   "source": [
    "print(type(data_true))"
   ]
  },
  {
   "cell_type": "code",
   "execution_count": 12,
   "id": "9aafe901",
   "metadata": {},
   "outputs": [],
   "source": [
    "res = {**data_true, **data_false}"
   ]
  },
  {
   "cell_type": "code",
   "execution_count": 13,
   "id": "f9861015",
   "metadata": {},
   "outputs": [],
   "source": [
    "data = pd.DataFrame(res.items(), columns=['SMILES', 'label'])"
   ]
  },
  {
   "cell_type": "code",
   "execution_count": 14,
   "id": "3c290bca",
   "metadata": {},
   "outputs": [
    {
     "data": {
      "text/html": [
       "<div>\n",
       "<style scoped>\n",
       "    .dataframe tbody tr th:only-of-type {\n",
       "        vertical-align: middle;\n",
       "    }\n",
       "\n",
       "    .dataframe tbody tr th {\n",
       "        vertical-align: top;\n",
       "    }\n",
       "\n",
       "    .dataframe thead th {\n",
       "        text-align: right;\n",
       "    }\n",
       "</style>\n",
       "<table border=\"1\" class=\"dataframe\">\n",
       "  <thead>\n",
       "    <tr style=\"text-align: right;\">\n",
       "      <th></th>\n",
       "      <th>SMILES</th>\n",
       "      <th>label</th>\n",
       "    </tr>\n",
       "  </thead>\n",
       "  <tbody>\n",
       "    <tr>\n",
       "      <th>0</th>\n",
       "      <td>c1(c(c([nH]c1C)C)C(=O)OCC)S(NCC1CCN(Cc2c(OC)cc...</td>\n",
       "      <td>1</td>\n",
       "    </tr>\n",
       "    <tr>\n",
       "      <th>1</th>\n",
       "      <td>c12c(C(N(Cc3ccccc3)C(C)C)=O)c(oc1\\N=C/N(C2=O)C)C</td>\n",
       "      <td>1</td>\n",
       "    </tr>\n",
       "    <tr>\n",
       "      <th>2</th>\n",
       "      <td>c12c(c(n(n1)c1ccccc1)C)\\C(=N/N(C2=O)CCCC(Nc1c(...</td>\n",
       "      <td>1</td>\n",
       "    </tr>\n",
       "    <tr>\n",
       "      <th>3</th>\n",
       "      <td>c12c(c(n(n1)c1ccccc1)C)\\C(=N/N(C2=O)CCCC(Nc1cc...</td>\n",
       "      <td>1</td>\n",
       "    </tr>\n",
       "    <tr>\n",
       "      <th>4</th>\n",
       "      <td>CCOC(CNC(C1SC2=C(C=1)C(Oc1c2cccc1)=O)=O)=O</td>\n",
       "      <td>1</td>\n",
       "    </tr>\n",
       "  </tbody>\n",
       "</table>\n",
       "</div>"
      ],
      "text/plain": [
       "                                              SMILES  label\n",
       "0  c1(c(c([nH]c1C)C)C(=O)OCC)S(NCC1CCN(Cc2c(OC)cc...      1\n",
       "1   c12c(C(N(Cc3ccccc3)C(C)C)=O)c(oc1\\N=C/N(C2=O)C)C      1\n",
       "2  c12c(c(n(n1)c1ccccc1)C)\\C(=N/N(C2=O)CCCC(Nc1c(...      1\n",
       "3  c12c(c(n(n1)c1ccccc1)C)\\C(=N/N(C2=O)CCCC(Nc1cc...      1\n",
       "4         CCOC(CNC(C1SC2=C(C=1)C(Oc1c2cccc1)=O)=O)=O      1"
      ]
     },
     "execution_count": 14,
     "metadata": {},
     "output_type": "execute_result"
    }
   ],
   "source": [
    "data.head()"
   ]
  },
  {
   "cell_type": "code",
   "execution_count": 15,
   "id": "3f5ce10d",
   "metadata": {},
   "outputs": [],
   "source": [
    "data.to_csv('SMILES_labels.csv', sep='\\t', index=False)"
   ]
  },
  {
   "cell_type": "code",
   "execution_count": 16,
   "id": "6064474f",
   "metadata": {},
   "outputs": [
    {
     "name": "stdout",
     "output_type": "stream",
     "text": [
      "0    49042\n",
      "1    20323\n",
      "Name: label, dtype: int64\n"
     ]
    }
   ],
   "source": [
    "print(data['label'].value_counts())"
   ]
  },
  {
   "cell_type": "markdown",
   "id": "270b36d5",
   "metadata": {},
   "source": [
    "# Создание дескрипторов"
   ]
  },
  {
   "cell_type": "code",
   "execution_count": 17,
   "id": "99938d61",
   "metadata": {},
   "outputs": [
    {
     "name": "stdout",
     "output_type": "stream",
     "text": [
      "Количество дескрипторов в словаре: 15\n"
     ]
    }
   ],
   "source": [
    "# создаем словарь из дескриторов структуры\n",
    "ConstDescriptors = {\"HeavyAtomCount\": Descriptors.HeavyAtomCount,\n",
    "                    \"NHOHCount\": Descriptors.NHOHCount,\n",
    "                    \"NOCount\": Descriptors.NOCount,\n",
    "                    \"NumHAcceptors\": Descriptors.NumHAcceptors,\n",
    "                    \"NumHDonors\": Descriptors.NumHDonors,\n",
    "                    \"NumHeteroatoms\": Descriptors.NumHeteroatoms,\n",
    "                    \"NumRotatableBonds\": Descriptors.NumRotatableBonds,\n",
    "                    \"NumValenceElectrons\": Descriptors.NumValenceElectrons,\n",
    "                    \"NumAromaticRings\": Descriptors.NumAromaticRings,\n",
    "                    \"NumAliphaticHeterocycles\": Descriptors.NumAliphaticHeterocycles,\n",
    "                    \"RingCount\": Descriptors.RingCount}\n",
    "\n",
    "# создаем словарь из физико-химических дескрипторов                            \n",
    "PhisChemDescriptors = {\"MW\": Descriptors.MolWt,\n",
    "                       \"LogP\": Descriptors.MolLogP,\n",
    "                       \"MR\": Descriptors.MolMR,\n",
    "                       \"TPSA\": Descriptors.TPSA}\n",
    "\n",
    "# объединяем все дескрипторы в один словарь\n",
    "descriptors = {}\n",
    "descriptors.update(ConstDescriptors)\n",
    "descriptors.update(PhisChemDescriptors)\n",
    "print(f\"Количество дескрипторов в словаре: {len(descriptors)}\")\n",
    "\n",
    "\n",
    "# функция для генерации дескрипторов из молекул\n",
    "def mol_dsc_calc(mols): \n",
    "    return DataFrame({k: f(m) for k, f in descriptors.items()} \n",
    "             for m in mols)\n",
    "\n",
    "# оформляем sklearn трансформер для использования в конвеерном моделировании (sklearn Pipeline)\n",
    "descriptors_transformer = FunctionTransformer(mol_dsc_calc, validate=False)"
   ]
  },
  {
   "cell_type": "code",
   "execution_count": 18,
   "id": "c13c63fd",
   "metadata": {},
   "outputs": [],
   "source": [
    "def calc_morgan(mols):\n",
    "    \"\"\" генерация молекулярных отпечатков по методу Моргана с радиусом 2\n",
    "    \"\"\"\n",
    "    for_df = []\n",
    "    for m in mols:\n",
    "        arr = zeros((1,), dtype='float32')\n",
    "        DataStructs.ConvertToNumpyArray(AllChem.GetMorganFingerprintAsBitVect(m, 2, 2048), arr)\n",
    "        for_df.append(arr)\n",
    "    return DataFrame(for_df)"
   ]
  },
  {
   "cell_type": "code",
   "execution_count": 19,
   "id": "e535a0a6",
   "metadata": {},
   "outputs": [],
   "source": [
    "# вынесем отдельно метки классов\n",
    "y = data['label'].tolist()"
   ]
  },
  {
   "cell_type": "markdown",
   "id": "a9a04c7c",
   "metadata": {},
   "source": [
    "Сейчас придётся сделать превращение SMILES из csv в sdf, поскольку очень нужна штука SDMolSupplier, а она работает только с sdf файлами. Для конвертации я использовала этот ресурс, в который просто положила csv файл, где остался только столбец SMILES: http://www.cheminfo.org/Chemistry/Cheminformatics/FormatConverter/index.html"
   ]
  },
  {
   "cell_type": "code",
   "execution_count": null,
   "id": "8e8a3a9b",
   "metadata": {},
   "outputs": [],
   "source": []
  },
  {
   "cell_type": "code",
   "execution_count": null,
   "id": "046c5545",
   "metadata": {},
   "outputs": [],
   "source": []
  },
  {
   "cell_type": "code",
   "execution_count": null,
   "id": "bc4ae964",
   "metadata": {},
   "outputs": [],
   "source": [
    "molecules = [mol for mol in Chem.SDMolSupplier(\"DOCK_FOR_DESCR.sdf\") if mol is not None]\n",
    "print(f'Количество молекул = {len(molecules)}')"
   ]
  },
  {
   "cell_type": "code",
   "execution_count": null,
   "id": "54c6654d",
   "metadata": {},
   "outputs": [],
   "source": [
    "X = descriptors_transformer.transform(molecules)"
   ]
  },
  {
   "cell_type": "code",
   "execution_count": null,
   "id": "9de5f3f4",
   "metadata": {},
   "outputs": [],
   "source": [
    "print(X)"
   ]
  },
  {
   "cell_type": "code",
   "execution_count": null,
   "id": "39020b91",
   "metadata": {},
   "outputs": [],
   "source": [
    "morgan_transformer = FunctionTransformer(calc_morgan, validate=False)\n",
    "dddf= pd.DataFrame(X)\n",
    "molecules_csv = train"
   ]
  },
  {
   "cell_type": "code",
   "execution_count": null,
   "id": "c4ce5ddf",
   "metadata": {},
   "outputs": [],
   "source": [
    "moleculesSMILES = list(molecules_csv['SMILES'])\n",
    "M = morgan_transformer.transform(molecules)"
   ]
  },
  {
   "cell_type": "code",
   "execution_count": null,
   "id": "ae3cb6a0",
   "metadata": {},
   "outputs": [],
   "source": [
    "scaler = StandardScaler()\n",
    "scaler.fit(X.values)\n",
    "X_norm_SS = DataFrame(scaler.transform(X.values), index=X.index, columns=X.columns)\n",
    "X_norm_SS"
   ]
  },
  {
   "cell_type": "code",
   "execution_count": null,
   "id": "4056f226",
   "metadata": {},
   "outputs": [],
   "source": [
    "normal_descriptors_transformer = Pipeline([('gen', descriptors_transformer), ('norm', scaler)])\n",
    "\n",
    "X_norm_SS = normal_descriptors_transformer.fit_transform(molecules)\n",
    "X_norm_SS"
   ]
  },
  {
   "cell_type": "code",
   "execution_count": null,
   "id": "89a4578d",
   "metadata": {},
   "outputs": [],
   "source": [
    "kf = KFold(n_splits=5, random_state=1, shuffle=True)"
   ]
  },
  {
   "cell_type": "code",
   "execution_count": null,
   "id": "7d29074f",
   "metadata": {},
   "outputs": [],
   "source": []
  },
  {
   "cell_type": "code",
   "execution_count": null,
   "id": "694e7d8f",
   "metadata": {},
   "outputs": [],
   "source": []
  },
  {
   "cell_type": "code",
   "execution_count": null,
   "id": "13a1ceef",
   "metadata": {},
   "outputs": [],
   "source": []
  }
 ],
 "metadata": {
  "kernelspec": {
   "display_name": "Python 3",
   "language": "python",
   "name": "python3"
  },
  "language_info": {
   "codemirror_mode": {
    "name": "ipython",
    "version": 3
   },
   "file_extension": ".py",
   "mimetype": "text/x-python",
   "name": "python",
   "nbconvert_exporter": "python",
   "pygments_lexer": "ipython3",
   "version": "3.9.7"
  }
 },
 "nbformat": 4,
 "nbformat_minor": 5
}
