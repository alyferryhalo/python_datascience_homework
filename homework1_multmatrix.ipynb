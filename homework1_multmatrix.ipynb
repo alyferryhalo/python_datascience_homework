{
 "cells": [
  {
   "cell_type": "code",
   "execution_count": 1,
   "id": "00578287",
   "metadata": {},
   "outputs": [],
   "source": [
    "import csv\n",
    "import numpy as np"
   ]
  },
  {
   "cell_type": "code",
   "execution_count": 2,
   "id": "6cecfa1f",
   "metadata": {},
   "outputs": [],
   "source": [
    "# считываем данные из .csv\n",
    "data = csv.reader(open(\"homework1_data.csv\"))"
   ]
  },
  {
   "cell_type": "code",
   "execution_count": 3,
   "id": "bc00dfa9",
   "metadata": {},
   "outputs": [],
   "source": [
    "X = list(data)"
   ]
  },
  {
   "cell_type": "code",
   "execution_count": 4,
   "id": "3d44a2ea",
   "metadata": {},
   "outputs": [],
   "source": [
    "numpy_matrix = np.array(X).astype(\"float\")"
   ]
  },
  {
   "cell_type": "code",
   "execution_count": 5,
   "id": "b64c4e05",
   "metadata": {},
   "outputs": [],
   "source": [
    "# формируем единичную матрицу по размеру\n",
    "new_matrix = np.eye(*numpy_matrix.shape)"
   ]
  },
  {
   "cell_type": "code",
   "execution_count": 6,
   "id": "717f9ded",
   "metadata": {},
   "outputs": [],
   "source": [
    "# перемножаем матрицы\n",
    "mult_matrix = numpy_matrix * new_matrix"
   ]
  },
  {
   "cell_type": "code",
   "execution_count": 7,
   "id": "5ff23c0a",
   "metadata": {},
   "outputs": [
    {
     "name": "stdout",
     "output_type": "stream",
     "text": [
      "[[1. 0.]\n",
      " [0. 1.]\n",
      " [0. 0.]\n",
      " [0. 0.]\n",
      " [0. 0.]\n",
      " [0. 0.]\n",
      " [0. 0.]\n",
      " [0. 0.]\n",
      " [0. 0.]\n",
      " [0. 0.]]\n"
     ]
    }
   ],
   "source": [
    "print(mult_matrix)"
   ]
  },
  {
   "cell_type": "code",
   "execution_count": 8,
   "id": "4d433341",
   "metadata": {},
   "outputs": [],
   "source": [
    "np.savetxt(\"homework1_output.csv\", mult_matrix, delimiter=\",\")"
   ]
  }
 ],
 "metadata": {
  "kernelspec": {
   "display_name": "Python 3",
   "language": "python",
   "name": "python3"
  },
  "language_info": {
   "codemirror_mode": {
    "name": "ipython",
    "version": 3
   },
   "file_extension": ".py",
   "mimetype": "text/x-python",
   "name": "python",
   "nbconvert_exporter": "python",
   "pygments_lexer": "ipython3",
   "version": "3.8.10"
  }
 },
 "nbformat": 4,
 "nbformat_minor": 5
}
